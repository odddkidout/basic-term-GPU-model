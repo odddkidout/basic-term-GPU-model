{
  "cells": [
    {
      "cell_type": "markdown",
      "metadata": {
        "id": "view-in-github",
        "colab_type": "text"
      },
      "source": [
        "<a href=\"https://colab.research.google.com/github/odddkidout/basic-term-GPU-model/blob/master/jaxtuary%20m1.ipynb\" target=\"_parent\"><img src=\"https://colab.research.google.com/assets/colab-badge.svg\" alt=\"Open In Colab\"/></a>"
      ]
    },
    {
      "cell_type": "markdown",
      "source": [
        "**Methodology for Reserve calculations for Life Insurance Product**"
      ],
      "metadata": {
        "id": "t3Isrcclps82"
      }
    },
    {
      "cell_type": "markdown",
      "source": [
        "Using jax and pymort"
      ],
      "metadata": {
        "id": "TdjV1tfkq22w"
      }
    },
    {
      "cell_type": "code",
      "source": [
        "!pip install pymort\n",
        "from jax import numpy as jnp\n",
        "from jax import lax\n",
        "from pymort import getIdGroup, MortXML"
      ],
      "metadata": {
        "id": "xoheuEhNrC8Q"
      },
      "execution_count": null,
      "outputs": []
    },
    {
      "cell_type": "markdown",
      "source": [
        "For this we will be using the study `2017_CSO loaded preferred_structure gender_distinct ANB`. We can get the [pymort](https://github.com/actuarialopensource/pymort) object that represents this collection by referencing any of the [table ids](https://mort.soa.org/) belonging to the collection. "
      ],
      "metadata": {
        "id": "rTOKh0GI4FLx"
      }
    },
    {
      "cell_type": "markdown",
      "source": [
        "Load moratality tables to tensor format"
      ],
      "metadata": {
        "id": "Ee8T9--64k1P"
      }
    },
    {
      "cell_type": "code",
      "source": [
        "ids = getIdGroup(3299).ids\n",
        "select = jnp.array([MortXML(id).Tables[0].Values.unstack().values for id in ids])\n",
        "ultimate = jnp.array([MortXML(id).Tables[1].Values.unstack().values for id in ids])\n",
        "print(f\"select.shape: {select.shape}\") # tableIds [3299, 3308], issue_ages [18, 95], durations [1, 25]\n",
        "print(f\"ultimate.shape: {ultimate.shape}\") # tableIds [3299, 3308], attained_ages [18, 120]"
      ],
      "metadata": {
        "colab": {
          "base_uri": "https://localhost:8080/"
        },
        "id": "3TGXgj134r-8",
        "outputId": "ae57e4ad-7746-4a22-ebf2-a622169152a8"
      },
      "execution_count": 3,
      "outputs": [
        {
          "output_type": "stream",
          "name": "stderr",
          "text": [
            "WARNING:absl:No GPU/TPU found, falling back to CPU. (Set TF_CPP_MIN_LOG_LEVEL=0 and rerun for more info.)\n"
          ]
        },
        {
          "output_type": "stream",
          "name": "stdout",
          "text": [
            "select.shape: (10, 78, 25)\n",
            "ultimate.shape: (10, 103)\n"
          ]
        }
      ]
    },
    {
      "cell_type": "markdown",
      "source": [
        "Policy holder attributes"
      ],
      "metadata": {
        "id": "22gTfTVV5eAq"
      }
    },
    {
      "cell_type": "code",
      "source": [
        "mortality_table_index = jnp.array([0,1,2])\n",
        "issue_age = jnp.array([30, 40, 50])\n",
        "duration = jnp.array([0, 0, 0]) # new business\n",
        "face = jnp.array([1000*x for x in [100, 500, 250]])\n",
        "ann_prem = jnp.array([20.070742, 224.05084 , 322.29498])"
      ],
      "metadata": {
        "id": "6mpQSRKE5hfr"
      },
      "execution_count": 4,
      "outputs": []
    },
    {
      "cell_type": "markdown",
      "source": [
        "Traditional actuarial modeling techniques do calculations recursively. In contrast, we compute cashflows for all points in time simultaneously. This allows parallelization over the time dimension on the GPU. \n",
        "\n",
        "Take the initial `duration` vector of shape `(modelpoints, )` and turn it into a `duration_projected` matrix shape `(timesteps, modelpoints)` where each row represents a different timestep.\n",
        "\n",
        "Use broadcasting to do this. Broadcasting is explained in detail [here](https://numpy.org/doc/stable/user/basics.broadcasting.html#general-broadcasting-rules), it discusses this exact problem."
      ],
      "metadata": {
        "id": "3fZYg8xf6_f1"
      }
    },
    {
      "cell_type": "code",
      "source": [
        "timesteps = 5 # The policy is a 5-year policy\n",
        "print(f\"duration: \\n {duration}\")\n",
        "time_axis = jnp.arange(timesteps)[:, jnp.newaxis]\n",
        "print(f\"time_axis: \\n {time_axis}\")\n",
        "duration_projected = time_axis + duration\n",
        "print(f\"duration_projected: \\n {duration_projected}\")"
      ],
      "metadata": {
        "colab": {
          "base_uri": "https://localhost:8080/"
        },
        "id": "--kP8-oX7FZF",
        "outputId": "33ffb4df-986f-4ed0-d1d6-a23e9305e331"
      },
      "execution_count": 5,
      "outputs": [
        {
          "output_type": "stream",
          "name": "stdout",
          "text": [
            "duration: \n",
            " [0 0 0]\n",
            "time_axis: \n",
            " [[0]\n",
            " [1]\n",
            " [2]\n",
            " [3]\n",
            " [4]]\n",
            "duration_projected: \n",
            " [[0 0 0]\n",
            " [1 1 1]\n",
            " [2 2 2]\n",
            " [3 3 3]\n",
            " [4 4 4]]\n"
          ]
        }
      ]
    },
    {
      "cell_type": "code",
      "source": [
        "# Once duration passes select table, use ultimate table\n",
        "q = jnp.where(\n",
        "    duration_projected < select.shape[-1],\n",
        "    select[mortality_table_index, issue_age - 18, duration_projected],\n",
        "    ultimate[mortality_table_index, (issue_age - 18) + duration_projected],\n",
        ")\n",
        "\n",
        "npx = jnp.concatenate([jnp.ones((1, q.shape[1])), jnp.cumprod(1-q, axis=0)[:-1]])\n",
        "\n",
        "claims = face * npx * q\n",
        "premiums = ann_prem * npx\n",
        "print(\"premiums: \\n\", premiums)\n",
        "print(\"claims: \\n\", claims)"
      ],
      "metadata": {
        "colab": {
          "base_uri": "https://localhost:8080/"
        },
        "id": "PJGGCT6Y7l0W",
        "outputId": "4528dedc-4f1e-4bd6-e3f0-ba1238ad740c"
      },
      "execution_count": 6,
      "outputs": [
        {
          "output_type": "stream",
          "name": "stdout",
          "text": [
            "premiums: \n",
            " [[ 20.070742 224.05084  322.29498 ]\n",
            " [ 20.06773  224.00827  322.0565  ]\n",
            " [ 20.06452  223.92987  321.7473  ]\n",
            " [ 20.060307 223.8179   321.31296 ]\n",
            " [ 20.05549  223.68584  320.7892  ]]\n",
            "claims: \n",
            " [[ 15.000001  95.       185.      ]\n",
            " [ 15.9976   174.96675  239.82239 ]\n",
            " [ 20.99349  249.86502  336.9265  ]\n",
            " [ 23.987522 294.6933   406.25833 ]\n",
            " [ 26.979483 339.4461   487.71072 ]]\n"
          ]
        }
      ]
    },
    {
      "cell_type": "code",
      "source": [
        "discount_factor = 1/(1.02)\n",
        "# discount factors for payments by policyholder starting at t = 0\n",
        "discounts = discount_factor ** jnp.arange(timesteps)[:, jnp.newaxis]\n",
        "# discounts factors for payments from insurer starting at t = 1 (payouts are at end of year of death)\n",
        "discounts_lagged = discounts * discount_factor\n",
        "print(discounts)\n",
        "print(discounts_lagged)"
      ],
      "metadata": {
        "colab": {
          "base_uri": "https://localhost:8080/"
        },
        "id": "C2VA97t18czm",
        "outputId": "4b495b47-3835-4fcb-f8b9-ddff2739ec06"
      },
      "execution_count": 7,
      "outputs": [
        {
          "output_type": "stream",
          "name": "stdout",
          "text": [
            "[[1.        ]\n",
            " [0.98039216]\n",
            " [0.96116877]\n",
            " [0.9423223 ]\n",
            " [0.9238454 ]]\n",
            "[[0.98039216]\n",
            " [0.96116877]\n",
            " [0.9423223 ]\n",
            " [0.9238454 ]\n",
            " [0.9057308 ]]\n",
            "#### INPUT ####\n",
            "face shape:  (3,)\n",
            "npx shape:  (5, 3)\n",
            "q shape:  (5, 3)\n",
            "discounts_lagged shape:  (5, 1)\n",
            "#### OUTPUT ####\n",
            "discounted_expected_claims = face * npx * q * discounts_lagged\n",
            "discounted_expected_claims shape:  (5, 3)\n"
          ]
        }
      ]
    },
    {
      "cell_type": "code",
      "source": [
        "discounted_expected_premiums = premiums * discounts\n",
        "discounted_expected_claims = face * npx * q * discounts_lagged\n",
        "print(\"Reserve at each timestamp : \",jnp.sum(lax.cumsum(discounted_expected_claims-discounted_expected_premiums,axis=0,reverse=True),axis=1,dtype=int))"
      ],
      "metadata": {
        "colab": {
          "base_uri": "https://localhost:8080/"
        },
        "id": "zWoHXWtFAYyE",
        "outputId": "9e63fa3e-e9c1-4cc2-993d-ab5694441f7c"
      },
      "execution_count": 35,
      "outputs": [
        {
          "output_type": "stream",
          "name": "stdout",
          "text": [
            "Reserve at each timestamp :  [  0 275 417 388 250]\n"
          ]
        }
      ]
    },
    {
      "cell_type": "code",
      "source": [
        ""
      ],
      "metadata": {
        "id": "WC9yvz0W91kJ"
      },
      "execution_count": null,
      "outputs": []
    }
  ],
  "metadata": {
    "colab": {
      "collapsed_sections": [],
      "name": "Untitled0.ipynb",
      "provenance": [],
      "mount_file_id": "1NpNDzgAqS7TKlGcLKH-BKUS4gFL9zNCW",
      "authorship_tag": "ABX9TyMXFutCg8buKbWKfEAZqUxP",
      "include_colab_link": true
    },
    "kernelspec": {
      "display_name": "Python 3",
      "name": "python3"
    },
    "language_info": {
      "name": "python"
    }
  },
  "nbformat": 4,
  "nbformat_minor": 0
}