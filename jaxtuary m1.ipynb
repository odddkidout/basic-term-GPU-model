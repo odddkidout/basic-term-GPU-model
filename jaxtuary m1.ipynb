{
  "cells": [
    {
      "cell_type": "markdown",
      "metadata": {
        "id": "view-in-github",
        "colab_type": "text"
      },
      "source": [
        "<a href=\"https://colab.research.google.com/github/odddkidout/basic-term-GPU-model/blob/master/jaxtuary%20m1.ipynb\" target=\"_parent\"><img src=\"https://colab.research.google.com/assets/colab-badge.svg\" alt=\"Open In Colab\"/></a>"
      ]
    },
    {
      "cell_type": "markdown",
      "source": [
        "**Methodology for Reserve calculations for Life Insurance Product**"
      ],
      "metadata": {
        "id": "t3Isrcclps82"
      }
    },
    {
      "cell_type": "markdown",
      "source": [
        "Using jax and pymort"
      ],
      "metadata": {
        "id": "TdjV1tfkq22w"
      }
    },
    {
      "cell_type": "code",
      "source": [
        "!pip install pymort\n",
        "from jax import numpy as jnp\n",
        "from pymort import getIdGroup, MortXML"
      ],
      "metadata": {
        "colab": {
          "base_uri": "https://localhost:8080/"
        },
        "id": "xoheuEhNrC8Q",
        "outputId": "c891f8fa-d7c1-4b6a-ad4f-15e90852b2ed"
      },
      "execution_count": 7,
      "outputs": [
        {
          "output_type": "stream",
          "name": "stdout",
          "text": [
            "Looking in indexes: https://pypi.org/simple, https://us-python.pkg.dev/colab-wheels/public/simple/\n",
            "Requirement already satisfied: pymort in /usr/local/lib/python3.7/dist-packages (0.6.0)\n",
            "Requirement already satisfied: pandas<2.0.0,>=1.3.4 in /usr/local/lib/python3.7/dist-packages (from pymort) (1.3.5)\n",
            "Requirement already satisfied: python-dateutil>=2.7.3 in /usr/local/lib/python3.7/dist-packages (from pandas<2.0.0,>=1.3.4->pymort) (2.8.2)\n",
            "Requirement already satisfied: numpy>=1.17.3 in /usr/local/lib/python3.7/dist-packages (from pandas<2.0.0,>=1.3.4->pymort) (1.21.6)\n",
            "Requirement already satisfied: pytz>=2017.3 in /usr/local/lib/python3.7/dist-packages (from pandas<2.0.0,>=1.3.4->pymort) (2022.1)\n",
            "Requirement already satisfied: six>=1.5 in /usr/local/lib/python3.7/dist-packages (from python-dateutil>=2.7.3->pandas<2.0.0,>=1.3.4->pymort) (1.15.0)\n"
          ]
        }
      ]
    },
    {
      "cell_type": "markdown",
      "source": [
        "For this we will be using the study `2017_CSO loaded preferred_structure gender_distinct ANB`. We can get the [pymort](https://github.com/actuarialopensource/pymort) object that represents this collection by referencing any of the [table ids](https://mort.soa.org/) belonging to the collection. "
      ],
      "metadata": {
        "id": "rTOKh0GI4FLx"
      }
    },
    {
      "cell_type": "code",
      "source": [
        "print(getIdGroup(3299))"
      ],
      "metadata": {
        "colab": {
          "base_uri": "https://localhost:8080/"
        },
        "id": "vUsYpKUI4T58",
        "outputId": "4b8ae608-bb0a-4fc8-d2af-58ac492d582b"
      },
      "execution_count": 8,
      "outputs": [
        {
          "output_type": "stream",
          "name": "stdout",
          "text": [
            "IdGroup(study='2017_CSO', grouping='loaded preferred_structure gender_distinct ANB', ids=(3299, 3300, 3301, 3302, 3303, 3304, 3305, 3306, 3307, 3308), genders=('male', 'male', 'male', 'female', 'female', 'female', 'male', 'male', 'female', 'female'), risks=('nonsmoker super_preferred', 'nonsmoker preferred', 'nonsmoker residual', 'nonsmoker super_preferred', 'nonsmoker preferred', 'nonsmoker residual', 'smoker preferred', 'smoker residual', 'smoker preferred', 'smoker residual'))\n"
          ]
        }
      ]
    },
    {
      "cell_type": "markdown",
      "source": [
        "Load moratality tables to tensor format"
      ],
      "metadata": {
        "id": "Ee8T9--64k1P"
      }
    },
    {
      "cell_type": "code",
      "source": [
        "ids = getIdGroup(3299).ids\n",
        "select = jnp.array([MortXML(id).Tables[0].Values.unstack().values for id in ids])\n",
        "ultimate = jnp.array([MortXML(id).Tables[1].Values.unstack().values for id in ids])\n",
        "print(f\"select.shape: {select.shape}\") # tableIds [3299, 3308], issue_ages [18, 95], durations [1, 25]\n",
        "print(f\"ultimate.shape: {ultimate.shape}\") # tableIds [3299, 3308], attained_ages [18, 120]"
      ],
      "metadata": {
        "colab": {
          "base_uri": "https://localhost:8080/"
        },
        "id": "3TGXgj134r-8",
        "outputId": "c619b9a8-7b5a-46ad-b803-4d7334295e70"
      },
      "execution_count": 9,
      "outputs": [
        {
          "output_type": "stream",
          "name": "stderr",
          "text": [
            "WARNING:absl:No GPU/TPU found, falling back to CPU. (Set TF_CPP_MIN_LOG_LEVEL=0 and rerun for more info.)\n"
          ]
        },
        {
          "output_type": "stream",
          "name": "stdout",
          "text": [
            "select.shape: (10, 78, 25)\n",
            "ultimate.shape: (10, 103)\n"
          ]
        }
      ]
    },
    {
      "cell_type": "markdown",
      "source": [
        "Policy holder attributes"
      ],
      "metadata": {
        "id": "22gTfTVV5eAq"
      }
    },
    {
      "cell_type": "code",
      "source": [
        "mortality_table_index = jnp.array([0,1,2])\n",
        "issue_age = jnp.array([30, 40, 50])\n",
        "duration = jnp.array([0, 0, 0]) # new business\n",
        "face = jnp.array([1000*x for x in [100, 500, 250]])\n",
        "ann_prem = jnp.array([20.070742, 224.05084 , 322.29498])"
      ],
      "metadata": {
        "id": "6mpQSRKE5hfr"
      },
      "execution_count": 11,
      "outputs": []
    },
    {
      "cell_type": "markdown",
      "source": [
        "Traditional actuarial modeling techniques do calculations recursively. In contrast, we compute cashflows for all points in time simultaneously. This allows parallelization over the time dimension on the GPU. \n",
        "\n",
        "Take the initial `duration` vector of shape `(modelpoints, )` and turn it into a `duration_projected` matrix shape `(timesteps, modelpoints)` where each row represents a different timestep.\n",
        "\n",
        "Use broadcasting to do this. Broadcasting is explained in detail [here](https://numpy.org/doc/stable/user/basics.broadcasting.html#general-broadcasting-rules), it discusses this exact problem."
      ],
      "metadata": {
        "id": "3fZYg8xf6_f1"
      }
    },
    {
      "cell_type": "code",
      "source": [
        "timesteps = 5 # The policy is a 5-year policy\n",
        "print(f\"duration: \\n {duration}\")\n",
        "time_axis = jnp.arange(timesteps)[:, jnp.newaxis]\n",
        "print(f\"time_axis: \\n {time_axis}\")\n",
        "duration_projected = time_axis + duration\n",
        "print(f\"duration_projected: \\n {duration_projected}\")"
      ],
      "metadata": {
        "colab": {
          "base_uri": "https://localhost:8080/"
        },
        "id": "--kP8-oX7FZF",
        "outputId": "fe1ccbcb-df10-427c-ebcc-4f20785077ab"
      },
      "execution_count": 12,
      "outputs": [
        {
          "output_type": "stream",
          "name": "stdout",
          "text": [
            "duration: \n",
            " [0 0 0]\n",
            "time_axis: \n",
            " [[0]\n",
            " [1]\n",
            " [2]\n",
            " [3]\n",
            " [4]]\n",
            "duration_projected: \n",
            " [[0 0 0]\n",
            " [1 1 1]\n",
            " [2 2 2]\n",
            " [3 3 3]\n",
            " [4 4 4]]\n"
          ]
        }
      ]
    },
    {
      "cell_type": "code",
      "source": [
        "# Once duration passes select table, use ultimate table\n",
        "q = jnp.where(\n",
        "    duration_projected < select.shape[-1],\n",
        "    select[mortality_table_index, issue_age - 18, duration_projected],\n",
        "    ultimate[mortality_table_index, (issue_age - 18) + duration_projected],\n",
        ")\n",
        "\n",
        "npx = jnp.concatenate([jnp.ones((1, q.shape[1])), jnp.cumprod(1-q, axis=0)[:-1]])\n",
        "\n",
        "claims = face * npx * q\n",
        "premiums = ann_prem * npx\n",
        "print(\"premiums: \\n\", premiums)\n",
        "print(\"claims: \\n\", claims)"
      ],
      "metadata": {
        "colab": {
          "base_uri": "https://localhost:8080/"
        },
        "id": "PJGGCT6Y7l0W",
        "outputId": "55fa0efb-b5e6-4ab4-8338-a69b1aed7884"
      },
      "execution_count": 17,
      "outputs": [
        {
          "output_type": "stream",
          "name": "stdout",
          "text": [
            "prem: \n",
            " [[ 20.070742 224.05084  322.29498 ]\n",
            " [ 20.06773  224.00827  322.0565  ]\n",
            " [ 20.06452  223.92987  321.7473  ]\n",
            " [ 20.060307 223.8179   321.31296 ]\n",
            " [ 20.05549  223.68584  320.7892  ]]\n",
            "claims: \n",
            " [[ 15.000001  95.       185.      ]\n",
            " [ 15.9976   174.96675  239.82239 ]\n",
            " [ 20.99349  249.86502  336.9265  ]\n",
            " [ 23.987522 294.6933   406.25833 ]\n",
            " [ 26.979483 339.4461   487.71072 ]]\n",
            "net_cashflow: \n",
            " [[   5.0707407   129.05084     137.29498   ]\n",
            " [   4.0701303    49.04152      82.2341    ]\n",
            " [  -0.92897034  -25.93515     -15.179199  ]\n",
            " [  -3.9272156   -70.8754      -84.94537   ]\n",
            " [  -6.923992   -115.76027    -166.92151   ]]\n"
          ]
        }
      ]
    },
    {
      "cell_type": "code",
      "source": [
        "discount_factor = 1/(1.02)\n",
        "# discount factors for payments by policyholder starting at t = 0\n",
        "discounts = discount_factor ** jnp.arange(timesteps)[:, jnp.newaxis]\n",
        "# discounts factors for payments from insurer starting at t = 1 (payouts are at end of year of death)\n",
        "discounts_lagged = discounts * discount_factor\n",
        "print(discounts)\n",
        "print(discounts_lagged)\n",
        "discounted_expected_claims = face * npx * q * discounts_lagged\n",
        "print(\"#### INPUT ####\")\n",
        "print(\"face shape: \", face.shape)\n",
        "print(\"npx shape: \", npx.shape)\n",
        "print(\"q shape: \", q.shape)\n",
        "print(\"discounts_lagged shape: \", discounts_lagged.shape)\n",
        "print(\"#### OUTPUT ####\")\n",
        "print(\"discounted_expected_claims = face * npx * q * discounts_lagged\")\n",
        "print(\"discounted_expected_claims shape: \", discounted_expected_claims.shape)"
      ],
      "metadata": {
        "colab": {
          "base_uri": "https://localhost:8080/"
        },
        "id": "C2VA97t18czm",
        "outputId": "9afd9d34-7f90-4036-c3ac-c6e81dfdbf15"
      },
      "execution_count": 19,
      "outputs": [
        {
          "output_type": "stream",
          "name": "stdout",
          "text": [
            "[[1.        ]\n",
            " [0.98039216]\n",
            " [0.96116877]\n",
            " [0.9423223 ]\n",
            " [0.9238454 ]]\n",
            "[[0.98039216]\n",
            " [0.96116877]\n",
            " [0.9423223 ]\n",
            " [0.9238454 ]\n",
            " [0.9057308 ]]\n",
            "#### INPUT ####\n",
            "face shape:  (3,)\n",
            "npx shape:  (5, 3)\n",
            "q shape:  (5, 3)\n",
            "discounts_lagged shape:  (5, 1)\n",
            "#### OUTPUT ####\n",
            "discounted_expected_claims = face * npx * q * discounts_lagged\n",
            "discounted_expected_claims shape:  (5, 3)\n"
          ]
        }
      ]
    },
    {
      "cell_type": "code",
      "source": [
        "discounted_expected_premiums = premiums * discounts\n",
        "discounted_expected_claims = face * npx * q * discounts_lagged\n",
        "print(discounted_expected_premiums)\n",
        "print(discounted_expected_claims)\n",
        "print(\"Reserves at each timestamps \\n\", jnp.sum(discounted_expected_premiums-discounted_expected_claims,axis=1))"
      ],
      "metadata": {
        "colab": {
          "base_uri": "https://localhost:8080/"
        },
        "id": "zWoHXWtFAYyE",
        "outputId": "54d2a0d8-f0d9-4912-e075-d6517d2a5937"
      },
      "execution_count": 25,
      "outputs": [
        {
          "output_type": "stream",
          "name": "stdout",
          "text": [
            "[[ 20.070742 224.05084  322.29498 ]\n",
            " [ 19.674246 219.61595  315.74167 ]\n",
            " [ 19.285389 215.23439  309.25348 ]\n",
            " [ 18.903275 210.9086   302.78036 ]\n",
            " [ 18.528173 206.65114  296.35965 ]]\n",
            "[[ 14.705883  93.13725  181.37254 ]\n",
            " [ 15.376393 168.17258  230.50978 ]\n",
            " [ 19.782635 235.45338  317.49338 ]\n",
            " [ 22.160763 272.25104  375.3199  ]\n",
            " [ 24.436148 307.44678  441.73462 ]]\n",
            "Reserves at each timestamps \n",
            " [ 277.20087   140.97311   -28.956139 -137.13945  -252.07858 ]\n"
          ]
        }
      ]
    }
  ],
  "metadata": {
    "colab": {
      "collapsed_sections": [],
      "name": "Untitled0.ipynb",
      "provenance": [],
      "mount_file_id": "1NpNDzgAqS7TKlGcLKH-BKUS4gFL9zNCW",
      "authorship_tag": "ABX9TyN2DeMvIRduOI7T4VRHbmsz",
      "include_colab_link": true
    },
    "kernelspec": {
      "display_name": "Python 3",
      "name": "python3"
    },
    "language_info": {
      "name": "python"
    }
  },
  "nbformat": 4,
  "nbformat_minor": 0
}