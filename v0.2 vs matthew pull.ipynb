{
  "cells": [
    {
      "cell_type": "markdown",
      "metadata": {
        "id": "view-in-github",
        "colab_type": "text"
      },
      "source": [
        "<a href=\"https://colab.research.google.com/github/odddkidout/basic-term-GPU-model/blob/master/v0.2%20vs%20matthew%20pull.ipynb\" target=\"_parent\"><img src=\"https://colab.research.google.com/assets/colab-badge.svg\" alt=\"Open In Colab\"/></a>"
      ]
    },
    {
      "cell_type": "markdown",
      "source": [
        "edited code by me"
      ],
      "metadata": {
        "id": "iXjHxnH-MyRz"
      }
    },
    {
      "cell_type": "code",
      "source": [
        "\n",
        "import jax.numpy as jnp\n",
        "import jax.numpy as np\n",
        "from jax import jit,lax\n",
        "\n",
        "\"\"\"Qx is mortality rate of the population\"\"\"\n",
        "q = np.array([0,0.001,0.002,0.003,0.003,0.004,0.004,0.005,0.007,0.009,0.011])\n",
        "\n",
        "\"\"\"Wx is Surrender rate of the population\"\"\"\n",
        "w = np.array([0,0.05,0.07,0.08,0.10,0.14,0.20,0.20,0.20,0.10,0.04])\n",
        "\n",
        "\"\"\"Yield curve\"\"\"\n",
        "Yields = np.array([0.02,0.02,0.02,0.02,0.02,0.02,0.02,0.02,0.02,0.02,0.02,0.02])\n",
        "\n",
        "\n",
        "\"\"\" We define some MPFs for policy information like premium, sum assured, Term , smoker status. this can be modified if an actuary wants to add more features\"\"\"\n",
        "MPFs  = np.array(([10,25000,5,1],[100,25000,10,0],[80,20000,10,0],[80,20000,10,1]))\n",
        "@jit\n",
        "def calc(x,q,w,timestamp):\n",
        "    \n",
        "    numforce_v2 = jnp.cumprod(1-jnp.add(q,w))\n",
        "    premium = jnp.multiply(x[0],numforce_v2)\n",
        "    claim = jnp.multiply(x[1],jnp.multiply(numforce_v2,q))\n",
        "    netCashflow = jnp.subtract(premium,claim)\n",
        "    return (jnp.sum(jnp.multiply(netCashflow,jnp.float_power((1 + Yields)[x[2]], timestamp))))\n",
        "    \n",
        "\n",
        "for x in MPFs:\n",
        "    qtemp = q[:x[2]]\n",
        "    wtemp = w[:x[2]]\n",
        "    timestamp = jnp.arange(x[2])\n",
        "    %timeit -n 1 calc(x,qtemp,wtemp,-timestamp)\n"
      ],
      "metadata": {
        "colab": {
          "base_uri": "https://localhost:8080/"
        },
        "id": "zGz1ldjOUANQ",
        "outputId": "44dc4196-2169-4908-9fe8-64db122ca7c2"
      },
      "execution_count": 28,
      "outputs": [
        {
          "output_type": "stream",
          "name": "stdout",
          "text": [
            "The slowest run took 10534.30 times longer than the fastest. This could mean that an intermediate result is being cached.\n",
            "1 loop, best of 5: 8.72 µs per loop\n",
            "The slowest run took 10683.87 times longer than the fastest. This could mean that an intermediate result is being cached.\n",
            "1 loop, best of 5: 9.59 µs per loop\n",
            "The slowest run took 7.02 times longer than the fastest. This could mean that an intermediate result is being cached.\n",
            "1 loop, best of 5: 8.66 µs per loop\n",
            "The slowest run took 6.71 times longer than the fastest. This could mean that an intermediate result is being cached.\n",
            "1 loop, best of 5: 9.07 µs per loop\n"
          ]
        }
      ]
    },
    {
      "cell_type": "code",
      "source": [
        "import jax.numpy as jnp\n",
        "\n",
        "q = jnp.array([0.001,0.002,0.003,0.003,0.004,0.004,0.005,0.007,0.009,0.011])\n",
        "w = jnp.array([0.05,0.07,0.08,0.10,0.14,0.20,0.20,0.20,0.10,0.04])\n",
        "interest_rate = .02\n",
        "face_value = 500_000\n",
        "annual_premium = 3_000\n",
        "\n",
        "# Policies in force starts at one, we add one to the beginning of the array\n",
        "def calc():\n",
        "    pols_if = jnp.concatenate([jnp.ones(1), jnp.cumprod((1-q)*(1-w))])\n",
        "    timesteps = jnp.arange(pols_if.shape[0])\n",
        "    # No cashflows out of the policy at time 0, add a zero to the beginning of the array\n",
        "    claims = pols_if * jnp.concatenate([jnp.zeros(1), q]) * face_value\n",
        "    premiums = pols_if * annual_premium\n",
        "\n",
        "    net_cashflows = (premiums - claims)\n",
        "    discount_factors = jnp.float_power(1 + interest_rate, -timesteps)\n",
        "    discounted_cashflows = net_cashflows * discount_factors\n",
        "    NPV = jnp.sum(discounted_cashflows)\n",
        "    return NPV\n",
        "  \n",
        "%timeit -n 1 calc()"
      ],
      "metadata": {
        "colab": {
          "base_uri": "https://localhost:8080/"
        },
        "id": "ZTl3N9btUCwA",
        "outputId": "91778efd-9ab8-49f9-fb9e-2fa2a28c73db"
      },
      "execution_count": 29,
      "outputs": [
        {
          "output_type": "stream",
          "name": "stdout",
          "text": [
            "1 loop, best of 5: 1.84 ms per loop\n"
          ]
        }
      ]
    },
    {
      "cell_type": "code",
      "source": [
        ""
      ],
      "metadata": {
        "id": "F9Eqf50ZkceT"
      },
      "execution_count": null,
      "outputs": []
    }
  ],
  "metadata": {
    "colab": {
      "name": "Untitled0.ipynb",
      "provenance": [],
      "authorship_tag": "ABX9TyM+tJTvej/EIsJwpPXxuxc9",
      "include_colab_link": true
    },
    "gpuClass": "standard",
    "kernelspec": {
      "display_name": "Python 3",
      "name": "python3"
    },
    "language_info": {
      "name": "python"
    },
    "accelerator": "TPU"
  },
  "nbformat": 4,
  "nbformat_minor": 0
}